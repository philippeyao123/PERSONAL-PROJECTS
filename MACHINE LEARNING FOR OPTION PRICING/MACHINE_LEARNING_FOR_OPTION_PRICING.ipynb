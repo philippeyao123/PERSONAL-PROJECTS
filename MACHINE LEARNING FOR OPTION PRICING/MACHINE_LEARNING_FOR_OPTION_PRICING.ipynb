{
  "nbformat": 4,
  "nbformat_minor": 0,
  "metadata": {
    "colab": {
      "provenance": []
    },
    "kernelspec": {
      "name": "python3",
      "display_name": "Python 3"
    },
    "language_info": {
      "name": "python"
    }
  },
  "cells": [
    {
      "cell_type": "markdown",
      "source": [
        "# Import libraries"
      ],
      "metadata": {
        "id": "fBiy40xhKmj0"
      }
    },
    {
      "cell_type": "code",
      "execution_count": null,
      "metadata": {
        "id": "25BD6epGCwc9"
      },
      "outputs": [],
      "source": [
        "import logging\n",
        "import numpy as np\n",
        "import pandas as pd\n",
        "import matplotlib.pyplot as plt\n",
        "import seaborn as sns\n",
        "import yfinance as yf\n",
        "from sklearn.model_selection import train_test_split, GridSearchCV, KFold, TimeSeriesSplit, cross_val_score\n",
        "from sklearn.preprocessing import StandardScaler, PolynomialFeatures\n",
        "from sklearn.metrics import mean_squared_error, mean_absolute_error, r2_score\n",
        "from sklearn.linear_model import LinearRegression\n",
        "from sklearn.svm import SVR\n",
        "from sklearn.ensemble import RandomForestRegressor, GradientBoostingRegressor\n",
        "from tensorflow.keras.models import Sequential\n",
        "from tensorflow.keras.layers import Dense, LSTM, GRU\n",
        "from tensorflow.keras.callbacks import EarlyStopping\n",
        "import tensorflow as tf\n",
        "import optuna\n",
        "import shap\n",
        "from joblib import Parallel, delayed\n",
        "\n",
        "import scikeras\n",
        "from scikeras.wrappers import KerasRegressor"
      ]
    },
    {
      "cell_type": "markdown",
      "source": [
        "# Data Fetching"
      ],
      "metadata": {
        "id": "Wl_Jn4RdKql-"
      }
    },
    {
      "cell_type": "code",
      "source": [
        "# Set up logging\n",
        "logging.basicConfig(level=logging.INFO)\n",
        "logger = logging.getLogger(__name__)\n",
        "\n",
        "def fetch_option_data(ticker, option_chain_date):\n",
        "    \"\"\"Fetches option data for a given ticker and expiration date.\"\"\"\n",
        "    try:\n",
        "        stock = yf.Ticker(ticker)\n",
        "        options = stock.option_chain(option_chain_date)\n",
        "        calls = options.calls\n",
        "\n",
        "        # Add historical stock price data\n",
        "        historical_data = stock.history(period=\"1y\")\n",
        "        calls['underlying_price'] = historical_data['Close'].iloc[-1]\n",
        "        calls['time_to_maturity'] = (pd.to_datetime(option_chain_date) - pd.Timestamp.today()).days / 365.0\n",
        "        calls['implied_volatility'] = calls['impliedVolatility']\n",
        "        calls['risk_free_rate'] = 0.01  # Assume a constant risk-free rate\n",
        "\n",
        "        logger.info(f\"Fetched option data for {ticker} on {option_chain_date}\")\n",
        "        return calls\n",
        "    except Exception as e:\n",
        "        logger.error(f\"Error fetching data for {ticker}: {str(e)}\")\n",
        "        return None\n",
        "\n"
      ],
      "metadata": {
        "id": "kTcIVnm5C-bG"
      },
      "execution_count": null,
      "outputs": []
    },
    {
      "cell_type": "markdown",
      "source": [
        "# Data Preprocessing"
      ],
      "metadata": {
        "id": "5ZeTqSOuK5Fr"
      }
    },
    {
      "cell_type": "code",
      "source": [
        "def preprocess_data(data):\n",
        "    \"\"\"Preprocesses the data by selecting features, splitting, and scaling.\"\"\"\n",
        "    try:\n",
        "        features = ['underlying_price', 'strike', 'time_to_maturity', 'implied_volatility', 'risk_free_rate']\n",
        "        X = data[features]\n",
        "        y = data['lastPrice']\n",
        "\n",
        "        # Split the data\n",
        "        X_train, X_test, y_train, y_test = train_test_split(X, y, test_size=0.2, random_state=42)\n",
        "\n",
        "        # Standardize the features\n",
        "        scaler = StandardScaler()\n",
        "        X_train_scaled = scaler.fit_transform(X_train)\n",
        "        X_test_scaled = scaler.transform(X_test)\n",
        "\n",
        "        logger.info(\"Data preprocessing completed successfully.\")\n",
        "        return X_train_scaled, X_test_scaled, y_train, y_test\n",
        "    except Exception as e:\n",
        "        logger.error(f\"Error in preprocessing data: {str(e)}\")\n",
        "        return None, None, None, None\n",
        "\n",
        "def feature_engineering(X):\n",
        "    \"\"\"Performs feature engineering such as polynomial features.\"\"\"\n",
        "    try:\n",
        "        poly = PolynomialFeatures(degree=2, interaction_only=True)\n",
        "        X_poly = poly.fit_transform(X)\n",
        "        logger.info(\"Feature engineering completed successfully.\")\n",
        "        return X_poly\n",
        "    except Exception as e:\n",
        "        logger.error(f\"Error during feature engineering: {str(e)}\")\n",
        "        return None"
      ],
      "metadata": {
        "id": "P2BUDKefK3nq"
      },
      "execution_count": null,
      "outputs": []
    },
    {
      "cell_type": "markdown",
      "source": [
        "# Model Training"
      ],
      "metadata": {
        "id": "572pN1KLLCDy"
      }
    },
    {
      "cell_type": "code",
      "source": [
        "def train_linear_regression(X_train, y_train):\n",
        "    \"\"\"Trains a linear regression model.\"\"\"\n",
        "    try:\n",
        "        lr_model = LinearRegression()\n",
        "        lr_model.fit(X_train, y_train)\n",
        "        logger.info(\"Linear regression model trained successfully.\")\n",
        "        return lr_model\n",
        "    except Exception as e:\n",
        "        logger.error(f\"Error training linear regression model: {str(e)}\")\n",
        "        return None\n"
      ],
      "metadata": {
        "id": "x_XmYKE1DU4e"
      },
      "execution_count": null,
      "outputs": []
    },
    {
      "cell_type": "code",
      "source": [
        "\n",
        "def train_svr(X_train, y_train):\n",
        "    \"\"\"Trains a Support Vector Regressor model with hyperparameter tuning.\"\"\"\n",
        "    try:\n",
        "        param_grid = {'C': [0.1, 1, 10], 'gamma': ['scale', 'auto'], 'kernel': ['rbf', 'linear']}\n",
        "        svr_model = GridSearchCV(SVR(), param_grid, cv=5, scoring='neg_mean_squared_error')\n",
        "        svr_model.fit(X_train, y_train)\n",
        "        logger.info(f\"Best Parameters for SVR: {svr_model.best_params_}\")\n",
        "        return svr_model.best_estimator_\n",
        "    except Exception as e:\n",
        "        logger.error(f\"Error training SVR model: {str(e)}\")\n",
        "        return None\n",
        "\n",
        "\n"
      ],
      "metadata": {
        "id": "H0Ak7l3KDZCB"
      },
      "execution_count": null,
      "outputs": []
    },
    {
      "cell_type": "code",
      "source": [
        "def train_neural_network(X_train, y_train):\n",
        "    \"\"\"Trains a simple neural network with early stopping.\"\"\"\n",
        "    try:\n",
        "        nn_model = Sequential([\n",
        "            Dense(128, input_dim=X_train.shape[1], activation='relu'),\n",
        "            Dense(64, activation='relu'),\n",
        "            Dense(1)\n",
        "        ])\n",
        "        nn_model.compile(optimizer='adam', loss='mse')\n",
        "\n",
        "        # Early stopping\n",
        "        early_stopping = EarlyStopping(monitor='loss', patience=5, restore_best_weights=True)\n",
        "\n",
        "        nn_model.fit(X_train, y_train, epochs=50, batch_size=32, verbose=0, callbacks=[early_stopping])\n",
        "\n",
        "        logger.info(\"Neural network training completed with early stopping.\")\n",
        "        return nn_model\n",
        "    except Exception as e:\n",
        "        logger.error(f\"Error training neural network: {str(e)}\")\n",
        "        return None\n"
      ],
      "metadata": {
        "id": "49Kaa2LWDbi0"
      },
      "execution_count": null,
      "outputs": []
    },
    {
      "cell_type": "code",
      "source": [
        "def train_random_forest(X_train, y_train):\n",
        "    \"\"\"Trains a Random Forest model.\"\"\"\n",
        "    try:\n",
        "        rf_model = RandomForestRegressor(n_estimators=100, random_state=42)\n",
        "        rf_model.fit(X_train, y_train)\n",
        "        logger.info(\"Random Forest training completed.\")\n",
        "        return rf_model\n",
        "    except Exception as e:\n",
        "        logger.error(f\"Error training Random Forest model: {str(e)}\")\n",
        "        return None"
      ],
      "metadata": {
        "id": "0Dgnj_FVFPBr"
      },
      "execution_count": null,
      "outputs": []
    },
    {
      "cell_type": "code",
      "source": [
        "def grid_search_svr(X_train, y_train):\n",
        "    \"\"\"Performs Grid Search to find the best hyperparameters for SVR.\"\"\"\n",
        "    param_grid = {'C': [0.1, 1, 10], 'gamma': ['scale', 'auto'], 'kernel': ['rbf', 'linear']}\n",
        "    svr_model = GridSearchCV(SVR(), param_grid, cv=5, scoring='neg_mean_squared_error')\n",
        "    svr_model.fit(X_train, y_train)\n",
        "    logger.info(f\"Best Parameters for SVR: {svr_model.best_params_}\")\n",
        "    return svr_model.best_estimator_\n"
      ],
      "metadata": {
        "id": "SvLm8Xs4FXQI"
      },
      "execution_count": null,
      "outputs": []
    },
    {
      "cell_type": "code",
      "source": [
        "\n",
        "def k_fold_cross_validation(model, X_train, y_train):\n",
        "    \"\"\"Performs K-Fold Cross-Validation.\"\"\"\n",
        "    kf = KFold(n_splits=5, shuffle=True, random_state=42)\n",
        "    scores = cross_val_score(model, X_train, y_train, cv=kf, scoring='neg_mean_squared_error')\n",
        "    logger.info(f\"K-Fold Cross-Validation Scores: {scores}\")\n",
        "    return scores\n",
        "\n"
      ],
      "metadata": {
        "id": "c5iO5mtCFnw7"
      },
      "execution_count": null,
      "outputs": []
    },
    {
      "cell_type": "markdown",
      "source": [
        "# Model Evaluation"
      ],
      "metadata": {
        "id": "IyXTOMWvLSnI"
      }
    },
    {
      "cell_type": "code",
      "source": [
        "def evaluate_model(model, X_test, y_test, model_type='linear', lstm=False):\n",
        "    \"\"\"Evaluates the model and returns key metrics.\"\"\"\n",
        "    try:\n",
        "        if lstm:\n",
        "            X_test = np.reshape(X_test, (X_test.shape[0], 1, X_test.shape[1]))\n",
        "\n",
        "        y_pred = model.predict(X_test)\n",
        "\n",
        "        if model_type == 'keras':\n",
        "            y_pred = y_pred.flatten()  # For neural networks and LSTM models\n",
        "\n",
        "        mse = mean_squared_error(y_test, y_pred)\n",
        "        rmse = np.sqrt(mse)\n",
        "        mae = mean_absolute_error(y_test, y_pred)\n",
        "        r2 = r2_score(y_test, y_pred)\n",
        "\n",
        "        logger.info(f\"Model evaluation completed: RMSE={rmse}, MAE={mae}, R^2={r2}\")\n",
        "        return {'metrics': {'RMSE': rmse, 'MAE': mae, 'R^2': r2}, 'y_pred': y_pred}\n",
        "    # ... (rest of your function)\n",
        "    except Exception as e:\n",
        "        logger.error(f\"Error during model evaluation: {str(e)}\")\n",
        "        return {'metrics': None, 'y_pred': None}"
      ],
      "metadata": {
        "id": "TPcXtRZvDf4L"
      },
      "execution_count": null,
      "outputs": []
    },
    {
      "cell_type": "markdown",
      "source": [
        "# Model Comparison and Visualization"
      ],
      "metadata": {
        "id": "23FtXcRlLXVI"
      }
    },
    {
      "cell_type": "code",
      "source": [
        "def compare_models(results):\n",
        "    \"\"\"Compares the models based on RMSE and MAE and visualizes the results.\"\"\"\n",
        "    # Extract metrics to top-level columns\n",
        "    flattened_results = []\n",
        "    for result in results:\n",
        "        flattened_result = {'Model': result['Model']}\n",
        "        flattened_result.update(result['metrics'])  # Extract metrics\n",
        "        flattened_results.append(flattened_result)\n",
        "\n",
        "    df = pd.DataFrame(flattened_results)  # Create DataFrame from flattened results\n",
        "\n",
        "    plt.figure(figsize=(14, 6))\n",
        "    plt.subplot(1, 2, 1)\n",
        "    sns.barplot(x='Model', y='RMSE', data=df)\n",
        "    plt.title('Model Comparison - RMSE')\n",
        "\n",
        "    plt.subplot(1, 2, 2)\n",
        "    sns.barplot(x='Model', y='MAE', data=df)\n",
        "    plt.title('Model Comparison - MAE')\n",
        "\n",
        "    plt.show()\n",
        "\n",
        "    logger.info(\"Model comparison completed.\")\n",
        "    print(df)"
      ],
      "metadata": {
        "id": "qtdndnmCDi8x"
      },
      "execution_count": null,
      "outputs": []
    },
    {
      "cell_type": "markdown",
      "source": [
        "# Cross Validation"
      ],
      "metadata": {
        "id": "qdFsqPr1LhQ_"
      }
    },
    {
      "cell_type": "code",
      "source": [
        "def k_fold_cross_validation(model, X_train, y_train):\n",
        "    \"\"\"Performs K-Fold Cross-Validation.\"\"\"\n",
        "    kf = KFold(n_splits=5, shuffle=True, random_state=42)\n",
        "    scores = cross_val_score(model, X_train, y_train, cv=kf, scoring='neg_mean_squared_error')\n",
        "    logger.info(f\"K-Fold Cross-Validation Scores: {scores}\")\n",
        "    return scores\n"
      ],
      "metadata": {
        "id": "-mC17BGvLjJP"
      },
      "execution_count": null,
      "outputs": []
    },
    {
      "cell_type": "markdown",
      "source": [
        "# Main"
      ],
      "metadata": {
        "id": "4LSThEDGLnu4"
      }
    },
    {
      "cell_type": "code",
      "source": [
        "def main():\n",
        "    # Fetch and preprocess data\n",
        "    ticker = 'AAPL'\n",
        "    option_chain_date = '2024-12-20'\n",
        "    data = fetch_option_data(ticker, option_chain_date)\n",
        "    if data is None:\n",
        "        logger.error(\"Failed to fetch or preprocess data. Exiting.\")\n",
        "        return\n",
        "\n",
        "    X_train_scaled, X_test_scaled, y_train, y_test = preprocess_data(data)\n",
        "    if X_train_scaled is None or y_train is None:\n",
        "        logger.error(\"Failed to preprocess data. Exiting.\")\n",
        "        return\n",
        "\n",
        "    # Feature engineering\n",
        "    X_train_scaled = feature_engineering(X_train_scaled)\n",
        "    X_test_scaled = feature_engineering(X_test_scaled)\n",
        "\n",
        "    # Train models\n",
        "    lr_model = train_linear_regression(X_train_scaled, y_train)\n",
        "    svr_model = train_svr(X_train_scaled, y_train)\n",
        "    rf_model = train_random_forest(X_train_scaled, y_train)\n",
        "    nn_model = train_neural_network(X_train_scaled, y_train)\n",
        "\n",
        "    # Cross-validation\n",
        "    k_fold_cross_validation(lr_model, X_train_scaled, y_train)\n",
        "\n",
        "    # Evaluate models\n",
        "    results = []\n",
        "\n",
        "    metrics = evaluate_model(lr_model, X_test_scaled, y_test)\n",
        "    results.append({'Model': 'Linear Regression', **metrics})\n",
        "\n",
        "    metrics = evaluate_model(svr_model, X_test_scaled, y_test)\n",
        "    results.append({'Model': 'SVR', **metrics})\n",
        "\n",
        "    metrics = evaluate_model(rf_model, X_test_scaled, y_test)\n",
        "    results.append({'Model': 'Random Forest', **metrics})\n",
        "\n",
        "    metrics = evaluate_model(nn_model, X_test_scaled, y_test, model_type='keras')\n",
        "    results.append({'Model': 'Neural Network', **metrics})\n",
        "\n",
        "    # Compare and visualize results\n",
        "    compare_models(results)\n",
        "\n",
        "if __name__ == \"__main__\":\n",
        "    main()\n"
      ],
      "metadata": {
        "colab": {
          "base_uri": "https://localhost:8080/",
          "height": 699
        },
        "id": "HJ708K8kDl1-",
        "outputId": "9849d16d-a3fb-4bb2-aecd-bec7c75ee60f"
      },
      "execution_count": null,
      "outputs": [
        {
          "output_type": "stream",
          "name": "stderr",
          "text": [
            "/usr/local/lib/python3.10/dist-packages/keras/src/layers/core/dense.py:87: UserWarning: Do not pass an `input_shape`/`input_dim` argument to a layer. When using Sequential models, prefer using an `Input(shape)` object as the first layer in the model instead.\n",
            "  super().__init__(activity_regularizer=activity_regularizer, **kwargs)\n"
          ]
        },
        {
          "output_type": "stream",
          "name": "stdout",
          "text": [
            "\u001b[1m1/1\u001b[0m \u001b[32m━━━━━━━━━━━━━━━━━━━━\u001b[0m\u001b[37m\u001b[0m \u001b[1m0s\u001b[0m 55ms/step\n"
          ]
        },
        {
          "output_type": "display_data",
          "data": {
            "text/plain": [
              "<Figure size 1400x600 with 2 Axes>"
            ],
            "image/png": "[encoded data removed]"
          },
          "metadata": {}
        },
        {
          "output_type": "stream",
          "name": "stdout",
          "text": [
            "               Model       RMSE        MAE       R^2\n",
            "0  Linear Regression  19.092803  13.696278  0.933994\n",
            "1                SVR  47.090193  24.330413  0.598479\n",
            "2      Random Forest  14.337798   7.349033  0.962777\n",
            "3     Neural Network  39.750201  31.160136  0.713895\n"
          ]
        }
      ]
    }
  ]
}