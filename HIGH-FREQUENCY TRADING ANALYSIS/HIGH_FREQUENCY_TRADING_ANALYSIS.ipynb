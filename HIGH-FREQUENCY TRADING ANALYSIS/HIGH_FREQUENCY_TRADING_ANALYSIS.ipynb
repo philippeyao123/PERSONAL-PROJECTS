{
  "nbformat": 4,
  "nbformat_minor": 0,
  "metadata": {
    "colab": {
      "provenance": []
    },
    "kernelspec": {
      "name": "python3",
      "display_name": "Python 3"
    },
    "language_info": {
      "name": "python"
    }
  },
  "cells": [
    {
      "cell_type": "markdown",
      "source": [
        "# Import libraries"
      ],
      "metadata": {
        "id": "-F0gI97rmmsu"
      }
    },
    {
      "cell_type": "code",
      "source": [
        "import yfinance as yf\n",
        "import pandas as pd\n",
        "import numpy as np\n",
        "import ta\n",
        "from sklearn.ensemble import RandomForestClassifier\n",
        "from sklearn.model_selection import train_test_split, TimeSeriesSplit\n",
        "from sklearn.preprocessing import StandardScaler, MinMaxScaler\n",
        "from sklearn.metrics import accuracy_score, classification_report\n",
        "from sklearn.svm import SVC\n",
        "from sklearn.ensemble import GradientBoostingClassifier\n",
        "from sklearn.metrics import accuracy_score\n",
        "import shap\n",
        "import plotly.express as px\n",
        "from sklearn.metrics import accuracy_score, confusion_matrix, ConfusionMatrixDisplay\n",
        "from sklearn.model_selection import cross_val_score, train_test_split, KFold\n",
        "import matplotlib.pyplot as plt\n",
        "\n",
        "from fpdf import FPDF\n",
        "import matplotlib.pyplot as plt\n",
        "import seaborn as sns\n",
        "import datetime as dt"
      ],
      "metadata": {
        "id": "MNWv2rLOmokD"
      },
      "execution_count": 35,
      "outputs": []
    },
    {
      "cell_type": "markdown",
      "source": [
        "# Data preprocessing and feature engineering"
      ],
      "metadata": {
        "id": "hLiMUa8SngFF"
      }
    },
    {
      "cell_type": "code",
      "source": [
        "def fetch_recent_data(ticker, days=7):\n",
        "    # Ensure that the date range is within the last 30 days\n",
        "    end_date = dt.datetime.today()\n",
        "    start_date = end_date - dt.timedelta(days=days)\n",
        "\n",
        "    # Fetching the most recent data only within the allowed date range\n",
        "    data = yf.download(ticker, start=start_date.strftime('%Y-%m-%d'), end=end_date.strftime('%Y-%m-%d'), interval=\"1m\")\n",
        "\n",
        "    # Check if the data is empty and handle it\n",
        "    if data.empty:\n",
        "        raise ValueError(\"No data fetched. Please ensure the date range is within the last 30 days and retry.\")\n",
        "\n",
        "    return data\n",
        "\n",
        "# Example Usage\n",
        "try:\n",
        "    ticker = \"AAPL\"\n",
        "    data = fetch_recent_data(ticker, days=7)\n",
        "    print(data.head())\n",
        "except ValueError as e:\n",
        "    print(e)\n",
        "\n",
        "# Preprocess data\n",
        "def preprocess_data(data):\n",
        "    if data is None: # Handle the case where fetch_data returned None\n",
        "        return None\n",
        "    data = data.dropna()\n",
        "    data['Return'] = data['Close'].pct_change()\n",
        "    data = data.dropna()\n",
        "    return data\n",
        "\n"
      ],
      "metadata": {
        "id": "PJSoN4wGnmzB",
        "outputId": "b9394d27-3c7c-4dac-94f0-b072101ab7f9",
        "colab": {
          "base_uri": "https://localhost:8080/"
        }
      },
      "execution_count": 26,
      "outputs": [
        {
          "output_type": "stream",
          "name": "stderr",
          "text": [
            "\r[*********************100%%**********************]  1 of 1 completed"
          ]
        },
        {
          "output_type": "stream",
          "name": "stdout",
          "text": [
            "                                 Open        High         Low       Close  \\\n",
            "Datetime                                                                    \n",
            "2024-08-05 09:30:00-04:00  199.000000  199.570007  198.650101  198.650101   \n",
            "2024-08-05 09:31:00-04:00  198.759995  202.600006  198.229996  202.539993   \n",
            "2024-08-05 09:32:00-04:00  202.563995  204.759995  202.503998  204.350006   \n",
            "2024-08-05 09:33:00-04:00  204.339996  206.139999  203.750000  205.899994   \n",
            "2024-08-05 09:34:00-04:00  205.899994  206.779999  205.009995  205.610001   \n",
            "\n",
            "                            Adj Close    Volume  \n",
            "Datetime                                         \n",
            "2024-08-05 09:30:00-04:00  198.650101  14928781  \n",
            "2024-08-05 09:31:00-04:00  202.539993   1404086  \n",
            "2024-08-05 09:32:00-04:00  204.350006   1390428  \n",
            "2024-08-05 09:33:00-04:00  205.899994   1255245  \n",
            "2024-08-05 09:34:00-04:00  205.610001    915775  \n"
          ]
        },
        {
          "output_type": "stream",
          "name": "stderr",
          "text": [
            "\n"
          ]
        }
      ]
    },
    {
      "cell_type": "markdown",
      "source": [
        "# Technical indicators"
      ],
      "metadata": {
        "id": "CYQHobjbmpzx"
      }
    },
    {
      "cell_type": "code",
      "source": [
        "def add_technical_indicators(data):\n",
        "    data['SMA_20'] = ta.trend.sma_indicator(data['Close'], window=20)\n",
        "    data['SMA_50'] = ta.trend.sma_indicator(data['Close'], window=50)\n",
        "    data['EMA_20'] = ta.trend.ema_indicator(data['Close'], window=20)\n",
        "    data['EMA_50'] = ta.trend.ema_indicator(data['Close'], window=50)\n",
        "    bollinger = ta.volatility.BollingerBands(close=data['Close'], window=20, window_dev=2)\n",
        "    data['Bollinger_High'] = bollinger.bollinger_hband()\n",
        "    data['Bollinger_Low'] = bollinger.bollinger_lband()\n",
        "    data['RSI'] = ta.momentum.rsi(data['Close'], window=14)\n",
        "    macd = ta.trend.MACD(close=data['Close'])\n",
        "    data['MACD'] = macd.macd()\n",
        "    data['MACD_Signal'] = macd.macd_signal()\n",
        "    return data\n",
        "\n"
      ],
      "metadata": {
        "id": "Fz1AELajnvEN"
      },
      "execution_count": 8,
      "outputs": []
    },
    {
      "cell_type": "code",
      "source": [
        "def visualize_volatility_metrics(data):\n",
        "    # Example: Plotting a few key volatility metrics\n",
        "    plt.figure(figsize=(14, 6))\n",
        "\n",
        "    # Bollinger Bands\n",
        "    plt.subplot(2, 1, 1)\n",
        "    plt.plot(data['Close'], label='Close Price')\n",
        "    plt.plot(data['Upper_Band'], label='Upper Bollinger Band', color='red', linestyle='--')\n",
        "    plt.plot(data['Lower_Band'], label='Lower Bollinger Band', color='blue', linestyle='--')\n",
        "    plt.fill_between(data.index, data['Lower_Band'], data['Upper_Band'], color='gray', alpha=0.1)\n",
        "    plt.title('Bollinger Bands')\n",
        "    plt.legend()\n",
        "\n",
        "    # ATR (Average True Range)\n",
        "    plt.subplot(2, 1, 2)\n",
        "    plt.plot(data['ATR'], label='ATR', color='brown')\n",
        "    plt.title('Average True Range (ATR)')\n",
        "    plt.legend()\n",
        "\n",
        "    plt.tight_layout()\n",
        "    plt.show()"
      ],
      "metadata": {
        "id": "W-ecimOhv1sY"
      },
      "execution_count": 39,
      "outputs": []
    },
    {
      "cell_type": "code",
      "source": [
        "\n",
        "def add_time_based_features(data):\n",
        "    data['Hour'] = data.index.hour\n",
        "    data['Day_of_Week'] = data.index.dayofweek\n",
        "    data['US_Session'] = ((data['Hour'] >= 13) & (data['Hour'] < 20)).astype(int)\n",
        "    return data"
      ],
      "metadata": {
        "id": "6vprUElvoOFF"
      },
      "execution_count": 10,
      "outputs": []
    },
    {
      "cell_type": "markdown",
      "source": [
        "# Modeling"
      ],
      "metadata": {
        "id": "sZhe_SANoQIc"
      }
    },
    {
      "cell_type": "code",
      "source": [
        "def build_random_forest_model(X_train, y_train):\n",
        "    model = RandomForestClassifier(n_estimators=100)\n",
        "    model.fit(X_train, y_train)\n",
        "    return model"
      ],
      "metadata": {
        "id": "NQqlx_jEoSLr"
      },
      "execution_count": 11,
      "outputs": []
    },
    {
      "cell_type": "code",
      "source": [
        "def build_svm_model(X_train, y_train):\n",
        "    model = SVC(kernel='rbf', C=1, gamma='auto')\n",
        "    model.fit(X_train, y_train)\n",
        "    return model\n",
        "\n",
        "def build_gbm_model(X_train, y_train):\n",
        "    model = GradientBoostingClassifier(n_estimators=100, learning_rate=0.1, max_depth=3)\n",
        "    model.fit(X_train, y_train)\n",
        "    return model"
      ],
      "metadata": {
        "id": "yJA7wYBgoZt7"
      },
      "execution_count": 32,
      "outputs": []
    },
    {
      "cell_type": "markdown",
      "source": [
        "# Evaluation"
      ],
      "metadata": {
        "id": "rl1-feFeofJM"
      }
    },
    {
      "cell_type": "code",
      "source": [
        "def cross_validate_and_evaluate(model, X, y, X_test, y_test, model_name):\n",
        "    kf = KFold(n_splits=5, shuffle=False)\n",
        "    cv_scores = cross_val_score(model, X, y, cv=kf)\n",
        "    print(f\"{model_name} Cross-Validation Accuracy: {cv_scores.mean() * 100:.2f}%\")\n",
        "\n",
        "    # Predict on the test set\n",
        "    y_pred = model.predict(X_test)\n",
        "    accuracy = accuracy_score(y_test, y_pred)\n",
        "    print(f\"{model_name} Test Set Accuracy: {accuracy * 100:.2f}%\")\n",
        "\n",
        "    # Confusion Matrix\n",
        "    cm = confusion_matrix(y_test, y_pred)\n",
        "    disp = ConfusionMatrixDisplay(confusion_matrix=cm)\n",
        "    disp.plot()\n",
        "    plt.title(f'{model_name} Confusion Matrix')\n",
        "    plt.show()\n",
        "\n"
      ],
      "metadata": {
        "id": "h5yXLywCoelf"
      },
      "execution_count": 36,
      "outputs": []
    },
    {
      "cell_type": "code",
      "source": [
        "def calculate_sharpe_ratio(returns, risk_free_rate=0):\n",
        "    return (returns.mean() - risk_free_rate) / returns.std()\n",
        "\n",
        "def calculate_max_drawdown(returns):\n",
        "    cumulative_returns = (1 + returns).cumprod()\n",
        "    peak = cumulative_returns.cummax()\n",
        "    drawdown = (cumulative_returns - peak) / peak\n",
        "    max_drawdown = drawdown.min()\n",
        "    return max_drawdown"
      ],
      "metadata": {
        "id": "OTf4OASOoiAb"
      },
      "execution_count": 14,
      "outputs": []
    },
    {
      "cell_type": "code",
      "source": [
        "def evaluate_financial_metrics(data):\n",
        "    # Assuming 'Return' column represents daily returns\n",
        "    returns = data['Return']\n",
        "\n",
        "    # Calculate Sharpe Ratio\n",
        "    sharpe_ratio = calculate_sharpe_ratio(returns)\n",
        "    print(f\"Sharpe Ratio: {sharpe_ratio:.2f}\")\n",
        "\n",
        "    # Calculate Maximum Drawdown\n",
        "    max_drawdown = calculate_max_drawdown(returns)\n",
        "    print(f\"Maximum Drawdown: {max_drawdown * 100:.2f}%\")"
      ],
      "metadata": {
        "id": "FgQsSnXuwbG9"
      },
      "execution_count": 43,
      "outputs": []
    },
    {
      "cell_type": "markdown",
      "source": [
        "# Main function"
      ],
      "metadata": {
        "id": "Tk9LQol-osNR"
      }
    },
    {
      "cell_type": "code",
      "source": [
        "def main():\n",
        "    ticker = \"AAPL\"\n",
        "\n",
        "    try:\n",
        "        # Fetch and preprocess recent 7 days data\n",
        "        data = fetch_recent_data(ticker, days=7)\n",
        "        data = preprocess_data(data)\n",
        "        data = add_technical_indicators(data)\n",
        "        data = add_volatility_metrics(data)\n",
        "        data = add_time_based_features(data)\n",
        "\n",
        "        # Prepare data for modeling\n",
        "        X = data.drop(['Close', 'Return'], axis=1).fillna(0).values\n",
        "        y = (data['Return'] > 0).astype(int).values\n",
        "        X_train, X_test, y_train, y_test = train_test_split(X, y, test_size=0.3, shuffle=False)\n",
        "\n",
        "        # Train and evaluate Random Forest\n",
        "        model_rf = build_random_forest_model(X_train, y_train)\n",
        "        cross_validate_and_evaluate(model_rf, X, y, X_test, y_test, \"Random Forest\")\n",
        "\n",
        "        # Train and evaluate SVM Model\n",
        "        model_svm = build_svm_model(X_train, y_train)\n",
        "        cross_validate_and_evaluate(model_svm, X, y, X_test, y_test, \"SVM\")\n",
        "\n",
        "        # Train and evaluate GBM Model\n",
        "        model_gbm = build_gbm_model(X_train, y_train)\n",
        "        cross_validate_and_evaluate(model_gbm, X, y, X_test, y_test, \"GBM\")\n",
        "\n",
        "        # Evaluate Financial Metrics\n",
        "        evaluate_financial_metrics(data)\n",
        "\n",
        "    except ValueError as e:\n",
        "        print(e)\n",
        "\n",
        "# Run the main function\n",
        "if __name__ == \"__main__\":\n",
        "    main()\n"
      ],
      "metadata": {
        "id": "6vmHgtG1ouUT",
        "outputId": "6ceca406-3faf-44e3-cc9e-957a7ac3c32a",
        "colab": {
          "base_uri": "https://localhost:8080/",
          "height": 1000
        }
      },
      "execution_count": 44,
      "outputs": [
        {
          "output_type": "stream",
          "name": "stderr",
          "text": [
            "\r[*********************100%%**********************]  1 of 1 completed\n"
          ]
        },
        {
          "output_type": "stream",
          "name": "stdout",
          "text": [
            "Random Forest Cross-Validation Accuracy: 65.45%\n",
            "Random Forest Test Set Accuracy: 59.55%\n"
          ]
        },
        {
          "output_type": "display_data",
          "data": {
            "text/plain": [
              "<Figure size 640x480 with 2 Axes>"
            ],
            "image/png": "[encoded data removed]"
          },
          "metadata": {}
        },
        {
          "output_type": "stream",
          "name": "stdout",
          "text": [
            "SVM Cross-Validation Accuracy: 51.66%\n",
            "SVM Test Set Accuracy: 52.50%\n"
          ]
        },
        {
          "output_type": "display_data",
          "data": {
            "text/plain": [
              "<Figure size 640x480 with 2 Axes>"
            ],
            "image/png": "[encoded data removed]"
          },
          "metadata": {}
        },
        {
          "output_type": "stream",
          "name": "stdout",
          "text": [
            "GBM Cross-Validation Accuracy: 64.99%\n",
            "GBM Test Set Accuracy: 68.85%\n"
          ]
        },
        {
          "output_type": "display_data",
          "data": {
            "text/plain": [
              "<Figure size 640x480 with 2 Axes>"
            ],
            "image/png": "[encoded data removed]"
          },
          "metadata": {}
        },
        {
          "output_type": "stream",
          "name": "stdout",
          "text": [
            "Sharpe Ratio: 0.03\n",
            "Maximum Drawdown: -5.52%\n"
          ]
        }
      ]
    }
  ]
}